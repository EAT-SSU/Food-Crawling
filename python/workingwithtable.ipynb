{
 "cells": [
  {
   "cell_type": "code",
   "execution_count": 1,
   "metadata": {},
   "outputs": [],
   "source": [
    "import urllib.request\n",
    "from bs4 import BeautifulSoup\n",
    "import re\n",
    "import pandas as pd\n",
    "from html_table_parser import parser_functions as parser\n"
   ]
  },
  {
   "cell_type": "code",
   "execution_count": 3,
   "metadata": {},
   "outputs": [
    {
     "name": "stdout",
     "output_type": "stream",
     "text": [
      "[['날짜', '조식', '중식', '석식', '중.석식'], ['2023-01-23 (월)', '福설날', '福설날', '福설날', ''], ['2023-01-24 (화)', '\"대체공휴일\"', '\"대체공휴일\"', '\"대체공휴일\"', ''], ['2023-01-25 (수)', '콩나물국\\r\\n쌀밥\\r\\n떡갈비&케찹\\r\\n무말랭이무침\\r\\n구이김\\r\\n깍두기\\r\\n계란후라이', '쫄면순두부\\r\\n쌀밥\\r\\n케이준치킨샐러드\\r\\n어묵볶음\\r\\n새콤쌈무무침\\r\\n깍두기\\r\\n요구르트', '로제스파게티\\r\\n미소장국\\r\\n쌀밥\\r\\n브로컬리함박스테이크\\r\\n그린샐러드\\r\\n깍두기\\r\\n요구르트', ''], ['2023-01-26 (목)', '김칫국\\r\\n쌀밥\\r\\n비엔나&미트볼/케찹\\r\\n연두부\\r\\n구이김\\r\\n깍두기\\r\\n계란후라이', '제육직화불고기\\r\\n미역국\\r\\n쌀밥\\r\\n모듬고로케&케찹\\r\\n콩나물무침\\r\\n깍두기\\r\\n요구르트', '미니어묵우동\\r\\n쌀밥\\r\\n치킨볼강정\\r\\n분홍소세지볶음\\r\\n단무지무침\\r\\n깍두기\\r\\n요구르트', ''], ['2023-01-27 (금)', '어묵국\\r\\n쌀밥\\r\\n치킨너겟&칠리s\\r\\n깻잎지\\r\\n구이김\\r\\n깍두기\\r\\n계란후라이', '얼큰육개장\\r\\n쌀밥\\r\\n떡갈비데리조림\\r\\n찐만두&양념장\\r\\n고추지무침\\r\\n깍두기\\r\\n요구르트', '김치볶음밥/김가루\\r\\n유부장국\\r\\n국물떡볶이\\r\\n김말이,군만두\\r\\n무짠지무침\\r\\n깍두기\\r\\n요구르트', ''], ['2023-01-28 (토)', '주말 조식은 운영하지 않습니다.', '제육소금구이\\r\\n콩나물국\\r\\n쌀밥\\r\\n뿌링치킨너겟\\r\\n오복지무침\\r\\n깍두기\\r\\n요구르트', '순두부계란탕\\r\\n쌀밥\\r\\n돈까스&치킨까스\\r\\n펜네파스타\\r\\n그린샐러드\\r\\n깍두기\\r\\n요구르트', ''], ['2023-01-29 (일)', '주말 조식은 운영하지 않습니다.', '어묵국\\r\\n쌀밥\\r\\n모듬탕수육\\r\\n비엔나김치볶음\\r\\n마카로니샐러드\\r\\n도시락김\\r\\n요구르트', '치즈닭갈비\\r\\n배추된장국\\r\\n쌀밥\\r\\n동그랑땡조림\\r\\n깻잎지\\r\\n깍두기\\r\\n요구르트', '']]\n"
     ]
    }
   ],
   "source": [
    "webpage=urllib.request.urlopen('https://ssudorm.ssu.ac.kr:444/SShostel/mall_main.php?viewform=B0001_foodboard_list&gyear=2023&gmonth=01&gday=26')\n",
    "\n",
    "\n",
    "soup:BeautifulSoup = BeautifulSoup(webpage, 'html.parser')\n",
    "table_tag=soup.find(\"table\",\"boxstyle02\")\n",
    "\n",
    "table=parser.make2d(table_tag)\n",
    "print(table)\n",
    "df=pd.DataFrame(table)\n",
    "dt2 = df.rename(columns=df.iloc[0])\n",
    "dt3 = dt2.drop(dt2.index[0])\n",
    "\n",
    "dt3[\"조식\"] = dt3[\"조식\"].str.split(\"\\r\\n\")\n",
    "dt3[\"중식\"] = dt3[\"중식\"].str.split(\"\\r\\n\")\n",
    "dt3[\"석식\"] = dt3[\"석식\"].str.split(\"\\r\\n\")\n",
    "dt3[\"중.석식\"] = dt3[\"중.석식\"].str.split(\"\\r\\n\")\n",
    "\n",
    "# print(dt3)"
   ]
  }
 ],
 "metadata": {
  "kernelspec": {
   "display_name": "venv",
   "language": "python",
   "name": "python3"
  },
  "language_info": {
   "codemirror_mode": {
    "name": "ipython",
    "version": 3
   },
   "file_extension": ".py",
   "mimetype": "text/x-python",
   "name": "python",
   "nbconvert_exporter": "python",
   "pygments_lexer": "ipython3",
   "version": "3.9.2"
  },
  "orig_nbformat": 4
 },
 "nbformat": 4,
 "nbformat_minor": 2
}
